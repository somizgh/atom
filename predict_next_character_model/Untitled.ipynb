{
 "cells": [
  {
   "cell_type": "code",
   "execution_count": 1,
   "metadata": {},
   "outputs": [
    {
     "name": "stdout",
     "output_type": "stream",
     "text": [
      "2.0.0\n"
     ]
    }
   ],
   "source": [
    "import tensorflow as tf\n",
    "\n",
    "# 텐서플로우의 버전을 확인해봅니다.\n",
    "print(tf.__version__)\n",
    "\n",
    "# numpy 를 np 라는 이름으로 축약해서 import 합니다.\n",
    "import numpy as np"
   ]
  },
  {
   "cell_type": "code",
   "execution_count": 2,
   "metadata": {},
   "outputs": [],
   "source": [
    "#path_to_file = tf.keras.utils.get_file('input.txt', 'https://raw.githubusercontent.com/greentec/greentec.github.io/master/public/other/data/koreanhiphop/input.txt')\n",
    "path_to_file2 = \"./sample.txt\"\n",
    "path_to_file2 = \"E:/Ai_projects_data/atom_data/ko_wiki_extraction/AA/wiki_00\""
   ]
  },
  {
   "cell_type": "code",
   "execution_count": 3,
   "metadata": {},
   "outputs": [
    {
     "name": "stdout",
     "output_type": "stream",
     "text": [
      "Length of text: 1831099 characters\n"
     ]
    }
   ],
   "source": [
    "text = open(path_to_file2, 'r',encoding=\"UTF-8\").read()#.decode(encoding='utf-8')\n",
    "# 빠른 테스트를 위해 데이터 크기를 1/5 로 줄이는 옵션입니다. \n",
    "# 더 큰 크기로 테스트하면 더 좋은 결과가 나오겠지만 epoch 당 학습 시간이 많이 필요합니다.\n",
    "# text = text[:len(text)//5]\n",
    "# 텍스트가 총 몇 자인지 확인합니다.\n",
    "print ('Length of text: {} characters'.format(len(text)))"
   ]
  },
  {
   "cell_type": "code",
   "execution_count": null,
   "metadata": {},
   "outputs": [],
   "source": []
  },
  {
   "cell_type": "code",
   "execution_count": 4,
   "metadata": {},
   "outputs": [
    {
     "name": "stdout",
     "output_type": "stream",
     "text": [
      "이고, 양식적이라 여겨져서, 조지 발란신같은 젊은 안무가가 발레 루스와 함께 큰 진보를 했지만, 첫 번째 몇 시즌에서 절대적인 성공을 거의 얻지 못했다\n",
      "\n",
      "ㅇㅣㄱㅗ, ㅇㅑㅇㅅㅣㄱㅈㅓㄱㅇㅣㄹㅏ ㅇㅕㄱㅕㅈㅕㅅㅓ, ㅈㅗㅈㅣ ㅂㅏㄹㄹㅏㄴㅅㅣㄴㄱㅏㅌㅇㅡㄴ ㅈㅓㄻㅇㅡㄴ ㅇㅏㄴㅁㅜㄱㅏㄱㅏ ㅂㅏㄹㄹㅔ ㄹㅜㅅㅡㅇㅘ ㅎㅏㅁㄲㅔ ㅋㅡㄴ ㅈㅣㄴㅂㅗㄹㅡㄹ ㅎㅐㅆㅈㅣㅁㅏㄴ, ㅊㅓㅅ ㅂㅓㄴㅉㅐ ㅁㅕㅊ ㅅㅣㅈㅡㄴㅇㅔㅅㅓ ㅈㅓㄹㄷㅐㅈㅓㄱㅇㅣㄴ ㅅㅓㅇㄱㅗㅇㅇㅡㄹ ㄱㅓㅇㅢ ㅇㅓㄷㅈㅣ ㅁㅗㅅㅎㅐㅆㄷㅏ\n"
     ]
    }
   ],
   "source": [
    "import jamotools\n",
    "# 한글과 영어가 같이 있는 부분을 임의로 발췌했습니다.\n",
    "s = text[3008:3092]\n",
    "print(s)\n",
    "print()\n",
    "# 한글 텍스트를 자모 단위로 분리해줍니다. 영어에는 영향이 없습니다.\n",
    "s_split = jamotools.split_syllables(s)\n",
    "print(s_split)"
   ]
  },
  {
   "cell_type": "code",
   "execution_count": 5,
   "metadata": {},
   "outputs": [
    {
     "name": "stdout",
     "output_type": "stream",
     "text": [
      "이고, 양식적이라 여겨져서, 조지 발란신같은 젊은 안무가가 발레 루스와 함께 큰 진보를 했지만, 첫 번째 몇 시즌에서 절대적인 성공을 거의 얻지 못했다\n",
      "True\n"
     ]
    }
   ],
   "source": [
    "s2 = jamotools.join_jamos(s_split)\n",
    "print(s2)\n",
    "print(s == s2)"
   ]
  },
  {
   "cell_type": "code",
   "execution_count": 6,
   "metadata": {},
   "outputs": [
    {
     "name": "stdout",
     "output_type": "stream",
     "text": [
      "2006 unique characters\n"
     ]
    }
   ],
   "source": [
    "text_jamo = jamotools.split_syllables(text)\n",
    "# 자모 단위 텍스트에 존재하는 unique character 를 set 을 이용해서 뽑아내고, sorted 로 정렬합니다.\n",
    "# 이 unique charater 를 보통 vocabulary 라고 합니다.\n",
    "vocab = sorted(set(text_jamo))\n",
    "print ('{} unique characters'.format(len(vocab)))"
   ]
  },
  {
   "cell_type": "code",
   "execution_count": 7,
   "metadata": {},
   "outputs": [],
   "source": [
    "# vocab character 를 숫자로 맵핑하고, 반대도 실행합니다.\n",
    "char2idx = {u:i for i, u in enumerate(vocab)}\n",
    "idx2char = np.array(vocab)\n",
    "\n",
    "text_as_int = np.array([char2idx[c] for c in text_jamo])"
   ]
  },
  {
   "cell_type": "code",
   "execution_count": 8,
   "metadata": {},
   "outputs": [
    {
     "name": "stdout",
     "output_type": "stream",
     "text": [
      "{\n",
      "  '\\n':   0,\n",
      "  ' ' :   1,\n",
      "  '!' :   2,\n",
      "  '\"' :   3,\n",
      "  '#' :   4,\n",
      "  '$' :   5,\n",
      "  '%' :   6,\n",
      "  '&' :   7,\n",
      "  \"'\" :   8,\n",
      "  '(' :   9,\n",
      "  ')' :  10,\n",
      "  '*' :  11,\n",
      "  '+' :  12,\n",
      "  ',' :  13,\n",
      "  '-' :  14,\n",
      "  '.' :  15,\n",
      "  '/' :  16,\n",
      "  '0' :  17,\n",
      "  '1' :  18,\n",
      "  '2' :  19,\n",
      "  ...\n",
      "}\n"
     ]
    }
   ],
   "source": [
    "# char2idx 의 일부를 알아보기 쉽게 print 해봅니다.\n",
    "print('{')\n",
    "for char,_ in zip(char2idx, range(20)):\n",
    "    print('  {:4s}: {:3d},'.format(repr(char), char2idx[char]))\n",
    "print('  ...\\n}')"
   ]
  },
  {
   "cell_type": "code",
   "execution_count": 9,
   "metadata": {},
   "outputs": [
    {
     "name": "stdout",
     "output_type": "stream",
     "text": [
      "'ㅏ, ㅎㅜㅇㅝㄴㅈㅏ, ㅂㅏㄹㄹㅔ ㅎㅡㅇㅎㅐ' ---- characters mapped to int ---- > [302  13   1 301 315 294 316 276 295 302  13   1 289 302 281 281 307   1\n",
      " 301 320 294 301 303]\n"
     ]
    }
   ],
   "source": [
    "print ('{} ---- characters mapped to int ---- > {}'.format(repr(text_jamo[210:233]), text_as_int[210:233]))"
   ]
  },
  {
   "cell_type": "code",
   "execution_count": 10,
   "metadata": {},
   "outputs": [
    {
     "name": "stdout",
     "output_type": "stream",
     "text": [
      "tf.Tensor(29, shape=(), dtype=int32)\n",
      "<\n",
      "tf.Tensor(68, shape=(), dtype=int32)\n",
      "d\n",
      "tf.Tensor(79, shape=(), dtype=int32)\n",
      "o\n",
      "tf.Tensor(67, shape=(), dtype=int32)\n",
      "c\n",
      "tf.Tensor(1, shape=(), dtype=int32)\n",
      " \n"
     ]
    }
   ],
   "source": [
    "# The maximum length sentence we want for a single input in characters\n",
    "seq_length = 100\n",
    "examples_per_epoch = len(text_jamo)//seq_length\n",
    "\n",
    "# Create training examples / targets\n",
    "char_dataset = tf.data.Dataset.from_tensor_slices(text_as_int)\n",
    "\n",
    "for i in char_dataset.take(5):\n",
    "    print(i)\n",
    "    print(idx2char[i.numpy()])"
   ]
  },
  {
   "cell_type": "code",
   "execution_count": 11,
   "metadata": {},
   "outputs": [
    {
     "name": "stdout",
     "output_type": "stream",
     "text": [
      "'<doc id=\"88201\" url=\"https://ko.wikipedia.org/wiki?curid=88201\" title=\"ㅅㅔㄹㅡㄱㅔㅇㅣ ㄷㅑㄱㅣㄹㄹㅔㅍㅡ\">\\nㅅㅔㄹㅡㄱㅔㅇㅣ '\n",
      "'ㄷㅑㄱㅣㄹㄹㅔㅍㅡ\\nㅅㅔㄹㅡㄱㅔㅇㅣ ㅍㅏㅂㅡㄹㄹㅗㅂㅣㅊㅣ ㄷㅑㄱㅣㄹㄹㅔㅍㅡ(, 1872ㄴㅕㄴ 3ㅇㅝㄹ 31ㅇㅣㄹ ~ 1929ㄴㅕㄴ 8ㅇㅝㄹ 19ㅇㅣㄹ)ㄴㅡㄴ ㄹㅓㅅㅣㅇㅏㅇㅢ ㅁㅣㅅㅜㄹ'\n",
      "' ㅍㅕㅇㄹㅗㄴㄱㅏ, ㅎㅜㅇㅝㄴㅈㅏ, ㅂㅏㄹㄹㅔ ㅎㅡㅇㅎㅐㅇㅈㅜ, ㄱㅡㄹㅣㄱㅗ ㅁㅏㄶㅇㅡㄴ ㅇㅠㅁㅕㅇㅎㅏㄴ ㅁㅜㅇㅛㅇㅅㅜㅇㅘ ㅇㅏㄴㅁㅜㄱㅏㄷㅡㄹㅇㅣ ㄷㅟㅇㅔ ㅁㅕㅇㅅㅓㅇㅇㅡㄹ ㅇㅓㄷㄱ'\n",
      "'ㅔ ㄷㅚㄴ ㅂㅏㄹㄹㅔ ㄹㅜㅅㅡㅇㅢ ㅅㅓㄹㄹㅣㅂㅈㅏㅇㅣㄷㅏ.\\nㅅㅔㄹㅡㄱㅔㅇㅣ ㄷㅑㄱㅣㄹㄹㅔㅍㅡㄴㅡㄴ ㅈㅔㅈㅓㅇ ㅁㅏㄹㄱㅣㅇㅔ ㄷㅏㄷㅏㄹㅡㄹ ㅁㅜㄹㅕㅂ, ㄹㅓㅅㅣㅇㅏ ㅍㅔㄹㅡㅁㅇㅢ ㅂㅜ'\n",
      "'ㅇㅠㅎㅏㄴ ㅈㅣㅂㅇㅏㄴㅇㅔㅅㅓ ㅌㅐㅇㅓㄴㅏㅆㄷㅏ. ㄱㅡㄴㅡㄴ ㅅㅜㄷㅗㄹㅗ ㅂㅗㄴㅐㅈㅕㅅㅓ ㅅㅏㅇㅌㅡㅍㅔㅌㅔㄹㅡㅂㅜㄹㅡㅋㅡ ㄷㅐㅎㅏㄱㅇㅔㅅㅓ ㅂㅓㅂㄹㅠㄹㅇㅡㄹ ㄱㅗㅇㅂㅜㅎㅏㄱㅔ ㄷㅚㅇ'\n"
     ]
    }
   ],
   "source": [
    "sequences = char_dataset.batch(seq_length+1, drop_remainder=True)\n",
    "\n",
    "for item in sequences.take(5):\n",
    "  print(repr(''.join(idx2char[item.numpy()])))"
   ]
  },
  {
   "cell_type": "code",
   "execution_count": 12,
   "metadata": {},
   "outputs": [],
   "source": [
    "def split_input_target(chunk):\n",
    "    input_text = chunk[:-1]\n",
    "    target_text = chunk[1:]\n",
    "    return input_text, target_text\n",
    "\n",
    "dataset = sequences.map(split_input_target)"
   ]
  },
  {
   "cell_type": "code",
   "execution_count": 13,
   "metadata": {},
   "outputs": [
    {
     "name": "stdout",
     "output_type": "stream",
     "text": [
      "Input data:  '<doc id=\"88201\" url=\"https://ko.wikipedia.org/wiki?curid=88201\" title=\"ㅅㅔㄹㅡㄱㅔㅇㅣ ㄷㅑㄱㅣㄹㄹㅔㅍㅡ\">\\nㅅㅔㄹㅡㄱㅔㅇㅣ'\n",
      "Target data: 'doc id=\"88201\" url=\"https://ko.wikipedia.org/wiki?curid=88201\" title=\"ㅅㅔㄹㅡㄱㅔㅇㅣ ㄷㅑㄱㅣㄹㄹㅔㅍㅡ\">\\nㅅㅔㄹㅡㄱㅔㅇㅣ '\n"
     ]
    }
   ],
   "source": [
    "for input_example, target_example in  dataset.take(1):\n",
    "  print ('Input data: ', repr(''.join(idx2char[input_example.numpy()])))\n",
    "  print ('Target data:', repr(''.join(idx2char[target_example.numpy()])))"
   ]
  },
  {
   "cell_type": "code",
   "execution_count": 14,
   "metadata": {},
   "outputs": [
    {
     "name": "stdout",
     "output_type": "stream",
     "text": [
      "Step    0\n",
      "  input: 29 ('<')\n",
      "  expected output: 68 ('d')\n",
      "Step    1\n",
      "  input: 68 ('d')\n",
      "  expected output: 79 ('o')\n",
      "Step    2\n",
      "  input: 79 ('o')\n",
      "  expected output: 67 ('c')\n",
      "Step    3\n",
      "  input: 67 ('c')\n",
      "  expected output: 1 (' ')\n",
      "Step    4\n",
      "  input: 1 (' ')\n",
      "  expected output: 73 ('i')\n"
     ]
    }
   ],
   "source": [
    "for i, (input_idx, target_idx) in enumerate(zip(input_example[:5], target_example[:5])):\n",
    "    print(\"Step {:4d}\".format(i))\n",
    "    print(\"  input: {} ({:s})\".format(input_idx, repr(idx2char[input_idx])))\n",
    "    print(\"  expected output: {} ({:s})\".format(target_idx, repr(idx2char[target_idx])))"
   ]
  },
  {
   "cell_type": "code",
   "execution_count": 15,
   "metadata": {},
   "outputs": [
    {
     "data": {
      "text/plain": [
       "<BatchDataset shapes: ((64, 100), (64, 100)), types: (tf.int32, tf.int32)>"
      ]
     },
     "execution_count": 15,
     "metadata": {},
     "output_type": "execute_result"
    }
   ],
   "source": [
    "# Batch size\n",
    "BATCH_SIZE = 64\n",
    "steps_per_epoch = examples_per_epoch//BATCH_SIZE\n",
    "\n",
    "# Buffer size to shuffle the dataset\n",
    "# (TF data is designed to work with possibly infinite sequences,\n",
    "# so it doesn't attempt to shuffle the entire sequence in memory. Instead,\n",
    "# it maintains a buffer in which it shuffles elements).\n",
    "BUFFER_SIZE = 10000\n",
    "\n",
    "dataset = dataset.shuffle(BUFFER_SIZE).batch(BATCH_SIZE, drop_remainder=True)\n",
    "\n",
    "dataset"
   ]
  },
  {
   "cell_type": "code",
   "execution_count": 16,
   "metadata": {},
   "outputs": [],
   "source": [
    "# Length of the vocabulary in chars\n",
    "vocab_size = len(vocab)\n",
    "\n",
    "# The embedding dimension\n",
    "embedding_dim = 256\n",
    "\n",
    "# Number of RNN units\n",
    "rnn_units = 1024"
   ]
  },
  {
   "cell_type": "code",
   "execution_count": 17,
   "metadata": {},
   "outputs": [
    {
     "name": "stdout",
     "output_type": "stream",
     "text": [
      "Model: \"sequential\"\n",
      "_________________________________________________________________\n",
      "Layer (type)                 Output Shape              Param #   \n",
      "=================================================================\n",
      "embedding (Embedding)        (64, None, 256)           513536    \n",
      "_________________________________________________________________\n",
      "gru (GRU)                    (64, None, 1024)          3938304   \n",
      "_________________________________________________________________\n",
      "dense (Dense)                (64, None, 2006)          2056150   \n",
      "=================================================================\n",
      "Total params: 6,507,990\n",
      "Trainable params: 6,507,990\n",
      "Non-trainable params: 0\n",
      "_________________________________________________________________\n"
     ]
    }
   ],
   "source": [
    "model = tf.keras.Sequential([\n",
    "    tf.keras.layers.Embedding(len(vocab), embedding_dim,\n",
    "                              batch_input_shape=[BATCH_SIZE, None]),\n",
    "    tf.keras.layers.GRU(rnn_units,\n",
    "        return_sequences=True,\n",
    "        recurrent_initializer='glorot_uniform',\n",
    "        stateful=True),\n",
    "    tf.keras.layers.Dense(vocab_size)\n",
    "])\n",
    "\n",
    "model.summary()"
   ]
  },
  {
   "cell_type": "code",
   "execution_count": 18,
   "metadata": {},
   "outputs": [
    {
     "name": "stdout",
     "output_type": "stream",
     "text": [
      "(64, 100, 2006) # (batch_size, sequence_length, vocab_size)\n"
     ]
    }
   ],
   "source": [
    "for input_example_batch, target_example_batch in dataset.take(1):\n",
    "  example_batch_predictions = model(input_example_batch)\n",
    "  print(example_batch_predictions.shape, \"# (batch_size, sequence_length, vocab_size)\")"
   ]
  },
  {
   "cell_type": "code",
   "execution_count": 19,
   "metadata": {},
   "outputs": [],
   "source": [
    "def loss(labels, logits):\n",
    "  return tf.keras.losses.sparse_categorical_crossentropy(labels, logits, from_logits=True)"
   ]
  },
  {
   "cell_type": "code",
   "execution_count": 20,
   "metadata": {},
   "outputs": [],
   "source": [
    "model.compile(\n",
    "    optimizer = tf.optimizers.Adam(),\n",
    "    loss = loss)"
   ]
  },
  {
   "cell_type": "code",
   "execution_count": 21,
   "metadata": {},
   "outputs": [
    {
     "name": "stdout",
     "output_type": "stream",
     "text": [
      "WARNING:tensorflow:`period` argument is deprecated. Please use `save_freq` to specify the frequency in number of samples seen.\n"
     ]
    }
   ],
   "source": [
    "import os\n",
    "# 모델의 체크포인트가 저장될 디렉토리 이름입니다.\n",
    "checkpoint_dir = './training_checkpoints'\n",
    "\n",
    "# 체크포인트 파일은 아래에서 지정하는 ckpt_{epoch} 형태로 접두사를 달게 됩니다. 즉 ckpt_5, ckpt_10, ... 이 됩니다.\n",
    "checkpoint_prefix = os.path.join(checkpoint_dir, \"ckpt_{epoch}\")\n",
    "\n",
    "# 체크포인트 콜백은 model.fit 을 실행할 때 호출됩니다. period 는 저장 주기입니다.\n",
    "checkpoint_callback=tf.keras.callbacks.ModelCheckpoint(\n",
    "    filepath=checkpoint_prefix,\n",
    "    save_weights_only=True,\n",
    "    period=1)"
   ]
  },
  {
   "cell_type": "code",
   "execution_count": 22,
   "metadata": {},
   "outputs": [],
   "source": [
    "EPOCHS = 10"
   ]
  },
  {
   "cell_type": "code",
   "execution_count": 23,
   "metadata": {},
   "outputs": [
    {
     "name": "stdout",
     "output_type": "stream",
     "text": [
      "Train for 549 steps\n",
      "Epoch 1/10\n",
      "549/549 - 44s - loss: 2.3734\n",
      "Epoch 2/10\n",
      "549/549 - 41s - loss: 1.9201\n",
      "Epoch 3/10\n",
      "549/549 - 41s - loss: 1.8114\n",
      "Epoch 4/10\n",
      "549/549 - 40s - loss: 1.7548\n",
      "Epoch 5/10\n",
      "549/549 - 40s - loss: 1.7153\n",
      "Epoch 6/10\n",
      "549/549 - 41s - loss: 1.6872\n",
      "Epoch 7/10\n",
      "549/549 - 41s - loss: 1.6650\n",
      "Epoch 8/10\n",
      "549/549 - 40s - loss: 1.6451\n",
      "Epoch 9/10\n",
      "549/549 - 39s - loss: 1.6285\n",
      "Epoch 10/10\n",
      "549/549 - 39s - loss: 1.6134\n"
     ]
    }
   ],
   "source": [
    "# 모델을 실제로 학습시킵니다.\n",
    "# 진행 막대를 표시하지 않기 위해서 verbose=2 로 설정합니다. (0 = 표시없음, 1 = 진행막대 표시)\n",
    "history = model.fit(dataset.repeat(), epochs=EPOCHS, steps_per_epoch=steps_per_epoch, callbacks=[checkpoint_callback], verbose=2)"
   ]
  },
  {
   "cell_type": "code",
   "execution_count": 24,
   "metadata": {},
   "outputs": [
    {
     "data": {
      "image/png": "[encoded data removed]",
      "text/plain": [
       "<Figure size 432x288 with 1 Axes>"
      ]
     },
     "metadata": {
      "needs_background": "light"
     },
     "output_type": "display_data"
    }
   ],
   "source": [
    "import matplotlib.pyplot as plt\n",
    "\n",
    "# 위에서 history 라는 이름으로 저장했던 변수에 있는 loss 정보를 꺾은선 그래프로 그립니다.\n",
    "plt.plot(history.history['loss'])\n",
    "\n",
    "# plt.show() 함수를 호출해야 위에서 그린 그래프가 출력에 나타납니다.\n",
    "plt.show()"
   ]
  },
  {
   "cell_type": "code",
   "execution_count": 25,
   "metadata": {},
   "outputs": [
    {
     "data": {
      "text/plain": [
       "'./training_checkpoints\\\\ckpt_10'"
      ]
     },
     "execution_count": 25,
     "metadata": {},
     "output_type": "execute_result"
    }
   ],
   "source": [
    "tf.train.latest_checkpoint(checkpoint_dir)"
   ]
  },
  {
   "cell_type": "code",
   "execution_count": 26,
   "metadata": {},
   "outputs": [
    {
     "name": "stdout",
     "output_type": "stream",
     "text": [
      "1.6134416364364068 9\n",
      "Model: \"sequential_1\"\n",
      "_________________________________________________________________\n",
      "Layer (type)                 Output Shape              Param #   \n",
      "=================================================================\n",
      "embedding_1 (Embedding)      (1, None, 256)            513536    \n",
      "_________________________________________________________________\n",
      "gru_1 (GRU)                  (1, None, 1024)           3938304   \n",
      "_________________________________________________________________\n",
      "dense_1 (Dense)              (1, None, 2006)           2056150   \n",
      "=================================================================\n",
      "Total params: 6,507,990\n",
      "Trainable params: 6,507,990\n",
      "Non-trainable params: 0\n",
      "_________________________________________________________________\n"
     ]
    }
   ],
   "source": [
    "gen_model = tf.keras.Sequential([\n",
    "    tf.keras.layers.Embedding(len(vocab), embedding_dim,\n",
    "                              batch_input_shape=[1, None]),\n",
    "    tf.keras.layers.GRU(rnn_units,\n",
    "        return_sequences=True,\n",
    "        recurrent_initializer='glorot_uniform',\n",
    "        stateful=True),\n",
    "    tf.keras.layers.Dense(vocab_size)\n",
    "])\n",
    "\n",
    "# 최신의 체크포인트에서 weights 를 불러옵니다.\n",
    "gen_model.load_weights(tf.train.latest_checkpoint(checkpoint_dir))\n",
    "\n",
    "# 가장 loss 가 낮은 weights 를 불러옵니다.\n",
    "min_loss = min(history.history['loss'])\n",
    "index = history.history['loss'].index(min_loss)\n",
    "print(min_loss, index)\n",
    "gen_model.load_weights('./training_checkpoints/ckpt_' + str(index+1))\n",
    "\n",
    "# build() 함수로 모델을 사용할 수 있도록 만듭니다. build() 함수를 사용할 때는 인수로 input_shape 을 같이 써줘야 합니다.\n",
    "gen_model.build(tf.TensorShape([1, None]))\n",
    "\n",
    "# gen_model의 구조를 출력합니다.\n",
    "gen_model.summary()"
   ]
  },
  {
   "cell_type": "code",
   "execution_count": 27,
   "metadata": {},
   "outputs": [],
   "source": [
    "def generate_text(model, start_string):\n",
    "  # Evaluation step (generating text using the learned model)\n",
    "\n",
    "  # Number of characters to generate\n",
    "  num_generate = 1000\n",
    "\n",
    "  # Converting our start string to numbers (vectorizing)\n",
    "  input_eval = [char2idx[s] for s in start_string]\n",
    "  input_eval = tf.expand_dims(input_eval, 0)\n",
    "\n",
    "  # Empty string to store our results\n",
    "  text_generated_jamo = []\n",
    "\n",
    "  # Low temperatures results in more predictable text.\n",
    "  # Higher temperatures results in more surprising text.\n",
    "  # Experiment to find the best setting.\n",
    "  temperature = 1.0\n",
    "\n",
    "  # Here batch size == 1\n",
    "  model.reset_states()\n",
    "  for i in range(num_generate):\n",
    "      predictions = model(input_eval)\n",
    "      # remove the batch dimension\n",
    "      predictions = tf.squeeze(predictions, 0)\n",
    "\n",
    "      # using a multinomial distribution to predict the word returned by the model\n",
    "      predictions = predictions / temperature\n",
    "      predicted_id = tf.random.categorical(predictions, num_samples=1)[-1,0].numpy()\n",
    "\n",
    "      # We pass the predicted word as the next input to the model\n",
    "      # along with the previous hidden state\n",
    "      input_eval = tf.expand_dims([predicted_id], 0)\n",
    "\n",
    "      text_generated_jamo.append(idx2char[predicted_id])\n",
    "      \n",
    "  text_generated = jamotools.join_jamos(''.join(text_generated_jamo))\n",
    "\n",
    "  return (jamotools.join_jamos(start_string) + text_generated)"
   ]
  },
  {
   "cell_type": "code",
   "execution_count": 28,
   "metadata": {},
   "outputs": [
    {
     "name": "stdout",
     "output_type": "stream",
     "text": [
      "잠은 안오고 피로무로 줄가 썼는데, 그 1권에서, 한국화된다. 떠항품 싸쿰 관련은 류장으로 쓰이는 연재로 남학생위 황제(네토를 멸의 산동에 있겠다. 또한 자버작시코, 집원으로 SBS, New Gerle intar ungensang hankexpand, Davorlnust irler adia.org/wikipedia.org/wiki?curid=88566\" title=\"하무〉의 사실》에 지배층관도 수상방치에서, 신피로 욘성후는 태안 해병사!ㅃ里면 악시코에서 민(覇漢), 《신의리주]로 1분이라노라 기완이 춛었으나 그리스투에서 주파 습스의 수 있었지만 변지를 끄저본으로써 당지를 이늡하 물리탄스와 뮤양상의 지제데 ㅆ는 서울과 거태수일건의 노래로 독력하였다.\n",
      "가도문니 문쟁콘사키아군\n",
      "863만부 양품은 “덕의해 불표되어 있었다.\n",
      "1189년에는 아울이 능도체 강화물리면 등을 그해서 붓머구며, 존 등과 견보항이산이다.\n",
      "9월 1일, 토면에 있게 된다. 약 3랴튼 대표’, 이료장에서는 지채를 일전하지 모쇼수와 눈 구술릭서키의 조정사관 등 172어국적이며, 부사를 번교 선고부, 폄위원회에도 돌아났다.\n",
      "</doc>\n",
      "<doc id=\"87439\" u\n"
     ]
    }
   ],
   "source": [
    "# print(generate_text(gen_model, start_string=u\"ㄴㅐㄱㅏ ㅈㅔㅇㅣㄹ \"))\n",
    "print(generate_text(gen_model, start_string=u\"ㅈㅏㅁㅇㅡㄴ ㅇㅏㄴㅇㅗㄱㅗ \"))\n",
    "# print(generate_text(gen_model, start_string=u\"ㅇㅗㄴㅡㄹ ㅂㅏㅁㅇㅡㄴ \"))"
   ]
  },
  {
   "cell_type": "code",
   "execution_count": null,
   "metadata": {},
   "outputs": [],
   "source": []
  }
 ],
 "metadata": {
  "kernelspec": {
   "display_name": "Python 3",
   "language": "python",
   "name": "python3"
  },
  "language_info": {
   "codemirror_mode": {
    "name": "ipython",
    "version": 3
   },
   "file_extension": ".py",
   "mimetype": "text/x-python",
   "name": "python",
   "nbconvert_exporter": "python",
   "pygments_lexer": "ipython3",
   "version": "3.6.10"
  }
 },
 "nbformat": 4,
 "nbformat_minor": 4
}
